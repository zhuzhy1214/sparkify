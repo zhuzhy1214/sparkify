{
 "cells": [
  {
   "cell_type": "markdown",
   "metadata": {},
   "source": [
    "# Sparkify Project , Potential Churn User Prediction with PySpark\n",
    "\n",
    "\n",
    "## Project Overview and problem (goal) statement\n",
    "This is a sample project to identify potential churn users based on user activities, using pyspark.\n",
    "\n",
    "The goal is to train a binary classifier to identify users (in both free and paid tier) who might the Sparkify music streaming service, based on the patterns obtained from their past activity and interaction with the service. \n",
    "\n",
    "\n",
    "## Approach\n",
    "This notebook is arranged based on the following approach:\n",
    "1. Data exploration: to understand the data, find data distribution and boundaries, find data anormaly and etc.\n",
    "2. Data wrangling: to clean data, derive data,visualize and summarize data\n",
    "3. Feature engineering: to define and generate features and label to be used in the model training, create train and test data set.\n",
    "4. Model training and evaluation: develop a few pilot models, define evaluation metrics for the model. Conduct initial evaluation for the model.\n",
    "5. Model tuning and conclusion: conduct parametric search to find best hyperparameters, and conduct model evaluation with final conclusion. \n",
    "\n",
    "The project used a tiny subset (128MB) to conduct data analyaia and develop the model, and the full dataset available (12GB) to train and validate model.\n"
   ]
  },
  {
   "cell_type": "code",
   "execution_count": 25,
   "metadata": {},
   "outputs": [],
   "source": [
    "# import libraries\n",
    "import pandas as pd\n",
    "from matplotlib import pyplot as plt\n",
    "import seaborn as sns\n",
    "sns.set_style('whitegrid')\n",
    "%matplotlib inline"
   ]
  },
  {
   "cell_type": "code",
   "execution_count": 1,
   "metadata": {},
   "outputs": [],
   "source": [
    "# create a Spark session\n",
    "\n",
    "from pyspark.sql import SparkSession\n",
    "\n",
    "import pyspark.sql.functions as sf\n",
    "from pyspark.sql.functions import sum as Fsum, min as Fmin, max as Fmax, when, col, count, first, countDistinct\n",
    "\n",
    "import pyspark.sql.types as st\n",
    "from pyspark.sql.types import DateType, IntegerType\n",
    "\n",
    "from pyspark.sql.window import Window\n",
    "\n",
    "from pyspark.ml.feature import VectorAssembler\n"
   ]
  },
  {
   "cell_type": "markdown",
   "metadata": {},
   "source": [
    "# Data exploration\n",
    " 1. understand the data \n",
    " 2. find data distribution and boundaries\n",
    " 3. find data anormaly"
   ]
  },
  {
   "cell_type": "code",
   "execution_count": 2,
   "metadata": {},
   "outputs": [],
   "source": [
    "spark = SparkSession.builder \\\n",
    "    .master(\"local\") \\\n",
    "    .appName(\"Initial Exploration\") \\\n",
    "    .getOrCreate()"
   ]
  },
  {
   "cell_type": "code",
   "execution_count": 3,
   "metadata": {},
   "outputs": [],
   "source": [
    "df_raw = spark.read.json('mini_sparkify_event_data.json')"
   ]
  },
  {
   "cell_type": "code",
   "execution_count": 4,
   "metadata": {},
   "outputs": [],
   "source": [
    "# df_raw = spark.read.json(\"s3n://udacity-dsnd/sparkify/sparkify_event_data.json\")"
   ]
  },
  {
   "cell_type": "code",
   "execution_count": 18,
   "metadata": {},
   "outputs": [
    {
     "name": "stdout",
     "output_type": "stream",
     "text": [
      "root\n",
      " |-- artist: string (nullable = true)\n",
      " |-- auth: string (nullable = true)\n",
      " |-- firstName: string (nullable = true)\n",
      " |-- gender: string (nullable = true)\n",
      " |-- itemInSession: long (nullable = true)\n",
      " |-- lastName: string (nullable = true)\n",
      " |-- length: double (nullable = true)\n",
      " |-- level: string (nullable = true)\n",
      " |-- location: string (nullable = true)\n",
      " |-- method: string (nullable = true)\n",
      " |-- page: string (nullable = true)\n",
      " |-- registration: long (nullable = true)\n",
      " |-- sessionId: long (nullable = true)\n",
      " |-- song: string (nullable = true)\n",
      " |-- status: long (nullable = true)\n",
      " |-- ts: long (nullable = true)\n",
      " |-- userAgent: string (nullable = true)\n",
      " |-- userId: string (nullable = true)\n",
      "\n"
     ]
    },
    {
     "ename": "TypeError",
     "evalue": "'NoneType' object is not iterable",
     "output_type": "error",
     "traceback": [
      "\u001b[0;31m---------------------------------------------------------------------------\u001b[0m",
      "\u001b[0;31mTypeError\u001b[0m                                 Traceback (most recent call last)",
      "\u001b[0;32m<ipython-input-18-3aacf8d09986>\u001b[0m in \u001b[0;36m<module>\u001b[0;34m()\u001b[0m\n\u001b[1;32m      1\u001b[0m \u001b[0;31m#check the columns for any invalid value\u001b[0m\u001b[0;34m\u001b[0m\u001b[0;34m\u001b[0m\u001b[0m\n\u001b[0;32m----> 2\u001b[0;31m \u001b[0mlist\u001b[0m\u001b[0;34m(\u001b[0m\u001b[0mdf_raw\u001b[0m\u001b[0;34m.\u001b[0m\u001b[0mprintSchema\u001b[0m\u001b[0;34m(\u001b[0m\u001b[0;34m)\u001b[0m\u001b[0;34m)\u001b[0m\u001b[0;34m\u001b[0m\u001b[0m\n\u001b[0m",
      "\u001b[0;31mTypeError\u001b[0m: 'NoneType' object is not iterable"
     ]
    }
   ],
   "source": [
    "#check the columns for any invalid value\n",
    "df_raw.printSchema()"
   ]
  },
  {
   "cell_type": "code",
   "execution_count": 6,
   "metadata": {},
   "outputs": [
    {
     "data": {
      "text/html": [
       "<div>\n",
       "<style scoped>\n",
       "    .dataframe tbody tr th:only-of-type {\n",
       "        vertical-align: middle;\n",
       "    }\n",
       "\n",
       "    .dataframe tbody tr th {\n",
       "        vertical-align: top;\n",
       "    }\n",
       "\n",
       "    .dataframe thead th {\n",
       "        text-align: right;\n",
       "    }\n",
       "</style>\n",
       "<table border=\"1\" class=\"dataframe\">\n",
       "  <thead>\n",
       "    <tr style=\"text-align: right;\">\n",
       "      <th></th>\n",
       "      <th>null_count</th>\n",
       "    </tr>\n",
       "  </thead>\n",
       "  <tbody>\n",
       "    <tr>\n",
       "      <th>artist</th>\n",
       "      <td>58392</td>\n",
       "    </tr>\n",
       "    <tr>\n",
       "      <th>auth</th>\n",
       "      <td>0</td>\n",
       "    </tr>\n",
       "    <tr>\n",
       "      <th>firstName</th>\n",
       "      <td>8346</td>\n",
       "    </tr>\n",
       "    <tr>\n",
       "      <th>gender</th>\n",
       "      <td>8346</td>\n",
       "    </tr>\n",
       "    <tr>\n",
       "      <th>itemInSession</th>\n",
       "      <td>0</td>\n",
       "    </tr>\n",
       "    <tr>\n",
       "      <th>lastName</th>\n",
       "      <td>8346</td>\n",
       "    </tr>\n",
       "    <tr>\n",
       "      <th>length</th>\n",
       "      <td>58392</td>\n",
       "    </tr>\n",
       "    <tr>\n",
       "      <th>level</th>\n",
       "      <td>0</td>\n",
       "    </tr>\n",
       "    <tr>\n",
       "      <th>location</th>\n",
       "      <td>8346</td>\n",
       "    </tr>\n",
       "    <tr>\n",
       "      <th>method</th>\n",
       "      <td>0</td>\n",
       "    </tr>\n",
       "    <tr>\n",
       "      <th>page</th>\n",
       "      <td>0</td>\n",
       "    </tr>\n",
       "    <tr>\n",
       "      <th>registration</th>\n",
       "      <td>8346</td>\n",
       "    </tr>\n",
       "    <tr>\n",
       "      <th>sessionId</th>\n",
       "      <td>0</td>\n",
       "    </tr>\n",
       "    <tr>\n",
       "      <th>song</th>\n",
       "      <td>58392</td>\n",
       "    </tr>\n",
       "    <tr>\n",
       "      <th>status</th>\n",
       "      <td>0</td>\n",
       "    </tr>\n",
       "    <tr>\n",
       "      <th>ts</th>\n",
       "      <td>0</td>\n",
       "    </tr>\n",
       "    <tr>\n",
       "      <th>userAgent</th>\n",
       "      <td>8346</td>\n",
       "    </tr>\n",
       "    <tr>\n",
       "      <th>userId</th>\n",
       "      <td>0</td>\n",
       "    </tr>\n",
       "  </tbody>\n",
       "</table>\n",
       "</div>"
      ],
      "text/plain": [
       "               null_count\n",
       "artist              58392\n",
       "auth                    0\n",
       "firstName            8346\n",
       "gender               8346\n",
       "itemInSession           0\n",
       "lastName             8346\n",
       "length              58392\n",
       "level                   0\n",
       "location             8346\n",
       "method                  0\n",
       "page                    0\n",
       "registration         8346\n",
       "sessionId               0\n",
       "song                58392\n",
       "status                  0\n",
       "ts                      0\n",
       "userAgent            8346\n",
       "userId                  0"
      ]
     },
     "execution_count": 6,
     "metadata": {},
     "output_type": "execute_result"
    }
   ],
   "source": [
    "missing = df_raw.select([sf.count(sf.when(sf.isnull(col), col)).alias(col) for col in df_raw.columns]).toPandas().T\n",
    "\n",
    "missing.columns = ['null_count']\n",
    "\n",
    "missing"
   ]
  },
  {
   "cell_type": "markdown",
   "metadata": {},
   "source": [
    "## Findings: \n",
    "\n",
    "The rows with null value for firstname does not any userId information. \n",
    "The are about 5% of the data.\n",
    "It is better to remove it from the df.\n",
    "\n",
    "\n",
    "Looks the logs with missing artist and orther information are the rows of actions other than plany music.\n",
    "They are valuable for predicting user status.\n",
    "Keep the data, but might be good idea to fill the data with 'n/a'"
   ]
  },
  {
   "cell_type": "code",
   "execution_count": 31,
   "metadata": {},
   "outputs": [],
   "source": [
    "convert_ms_udf = sf.udf(lambda t: None if t is None else t//1000, st.LongType())\n",
    "\n",
    "def clean_df(df_raw):\n",
    "    \"\"\"\n",
    "    Takes in a raw events dataframe, makes a few extra columns and cleans it.\n",
    "    concretely: \n",
    "    1.filter out rows without user information \n",
    "    2.fill the null values for song information for actions other than playing song\n",
    "    3.change the timestamp unit to ms.\n",
    "    4.create user register timestamp and current timestamp column with datetype of timestamp\n",
    "    \n",
    "    INPUT: (dataframe) raw dataframe\n",
    "    \n",
    "    OUTPU: (dataframe) dataframe with clean data, no null or empty data\n",
    "    \n",
    "    \"\"\"\n",
    "    df_raw =  df_raw.dropna(subset = ['gender'], how = 'any')\n",
    "    df_raw = df_raw.fillna('n/a', subset=['artist','song'])\n",
    "    df = df_raw.fillna(0, subset=['length'])\n",
    "    \n",
    "    \n",
    "    # Clean time columns\n",
    "    df = df.withColumn('timestamp', convert_ms_udf(df.ts).cast('timestamp'))\n",
    "    df = df.withColumn('registration_ts', convert_ms_udf(df.registration).cast('timestamp'))\n",
    "\n",
    "    return df"
   ]
  },
  {
   "cell_type": "code",
   "execution_count": 32,
   "metadata": {},
   "outputs": [],
   "source": [
    "df = clean_df(df_raw)"
   ]
  },
  {
   "cell_type": "code",
   "execution_count": 33,
   "metadata": {},
   "outputs": [
    {
     "name": "stdout",
     "output_type": "stream",
     "text": [
      "+------+----+---------+------+-------------+--------+------+-----+--------+------+----+------------+---------+----+------+---+---------+------+---------+---------------+\n",
      "|artist|auth|firstName|gender|itemInSession|lastName|length|level|location|method|page|registration|sessionId|song|status| ts|userAgent|userId|timestamp|registration_ts|\n",
      "+------+----+---------+------+-------------+--------+------+-----+--------+------+----+------------+---------+----+------+---+---------+------+---------+---------------+\n",
      "|     0|   0|        0|     0|            0|       0|     0|    0|       0|     0|   0|           0|        0|   0|     0|  0|        0|     0|        0|              0|\n",
      "+------+----+---------+------+-------------+--------+------+-----+--------+------+----+------------+---------+----+------+---+---------+------+---------+---------------+\n",
      "\n"
     ]
    }
   ],
   "source": [
    "#check the cleaned dataframe\n",
    "df.select([sf.count(sf.when(sf.isnull(c), c)).alias(c) for c in df.columns]).show()"
   ]
  },
  {
   "cell_type": "code",
   "execution_count": 34,
   "metadata": {},
   "outputs": [],
   "source": [
    "#get an overview of distince values in the dataset\n",
    "distinct_all = df.agg(*(sf.countDistinct(c).alias(c) for c in df.columns))\n"
   ]
  },
  {
   "cell_type": "code",
   "execution_count": 35,
   "metadata": {},
   "outputs": [
    {
     "data": {
      "text/html": [
       "<div>\n",
       "<style scoped>\n",
       "    .dataframe tbody tr th:only-of-type {\n",
       "        vertical-align: middle;\n",
       "    }\n",
       "\n",
       "    .dataframe tbody tr th {\n",
       "        vertical-align: top;\n",
       "    }\n",
       "\n",
       "    .dataframe thead th {\n",
       "        text-align: right;\n",
       "    }\n",
       "</style>\n",
       "<table border=\"1\" class=\"dataframe\">\n",
       "  <thead>\n",
       "    <tr style=\"text-align: right;\">\n",
       "      <th></th>\n",
       "      <th>0</th>\n",
       "    </tr>\n",
       "  </thead>\n",
       "  <tbody>\n",
       "    <tr>\n",
       "      <th>artist</th>\n",
       "      <td>17656</td>\n",
       "    </tr>\n",
       "    <tr>\n",
       "      <th>auth</th>\n",
       "      <td>2</td>\n",
       "    </tr>\n",
       "    <tr>\n",
       "      <th>firstName</th>\n",
       "      <td>189</td>\n",
       "    </tr>\n",
       "    <tr>\n",
       "      <th>gender</th>\n",
       "      <td>2</td>\n",
       "    </tr>\n",
       "    <tr>\n",
       "      <th>itemInSession</th>\n",
       "      <td>1311</td>\n",
       "    </tr>\n",
       "    <tr>\n",
       "      <th>lastName</th>\n",
       "      <td>173</td>\n",
       "    </tr>\n",
       "    <tr>\n",
       "      <th>length</th>\n",
       "      <td>14866</td>\n",
       "    </tr>\n",
       "    <tr>\n",
       "      <th>level</th>\n",
       "      <td>2</td>\n",
       "    </tr>\n",
       "    <tr>\n",
       "      <th>location</th>\n",
       "      <td>114</td>\n",
       "    </tr>\n",
       "    <tr>\n",
       "      <th>method</th>\n",
       "      <td>2</td>\n",
       "    </tr>\n",
       "    <tr>\n",
       "      <th>page</th>\n",
       "      <td>19</td>\n",
       "    </tr>\n",
       "    <tr>\n",
       "      <th>registration</th>\n",
       "      <td>225</td>\n",
       "    </tr>\n",
       "    <tr>\n",
       "      <th>sessionId</th>\n",
       "      <td>2312</td>\n",
       "    </tr>\n",
       "    <tr>\n",
       "      <th>song</th>\n",
       "      <td>58481</td>\n",
       "    </tr>\n",
       "    <tr>\n",
       "      <th>status</th>\n",
       "      <td>3</td>\n",
       "    </tr>\n",
       "    <tr>\n",
       "      <th>ts</th>\n",
       "      <td>269770</td>\n",
       "    </tr>\n",
       "    <tr>\n",
       "      <th>userAgent</th>\n",
       "      <td>56</td>\n",
       "    </tr>\n",
       "    <tr>\n",
       "      <th>userId</th>\n",
       "      <td>225</td>\n",
       "    </tr>\n",
       "    <tr>\n",
       "      <th>timestamp</th>\n",
       "      <td>269770</td>\n",
       "    </tr>\n",
       "    <tr>\n",
       "      <th>registration_ts</th>\n",
       "      <td>225</td>\n",
       "    </tr>\n",
       "  </tbody>\n",
       "</table>\n",
       "</div>"
      ],
      "text/plain": [
       "                      0\n",
       "artist            17656\n",
       "auth                  2\n",
       "firstName           189\n",
       "gender                2\n",
       "itemInSession      1311\n",
       "lastName            173\n",
       "length            14866\n",
       "level                 2\n",
       "location            114\n",
       "method                2\n",
       "page                 19\n",
       "registration        225\n",
       "sessionId          2312\n",
       "song              58481\n",
       "status                3\n",
       "ts               269770\n",
       "userAgent            56\n",
       "userId              225\n",
       "timestamp        269770\n",
       "registration_ts     225"
      ]
     },
     "execution_count": 35,
     "metadata": {},
     "output_type": "execute_result"
    }
   ],
   "source": [
    "distinct_all.toPandas().T"
   ]
  },
  {
   "cell_type": "code",
   "execution_count": 37,
   "metadata": {},
   "outputs": [
    {
     "name": "stdout",
     "output_type": "stream",
     "text": [
      "+--------------------+\n",
      "|                page|\n",
      "+--------------------+\n",
      "|              Cancel|\n",
      "|    Submit Downgrade|\n",
      "|         Thumbs Down|\n",
      "|                Home|\n",
      "|           Downgrade|\n",
      "|         Roll Advert|\n",
      "|              Logout|\n",
      "|       Save Settings|\n",
      "|Cancellation Conf...|\n",
      "|               About|\n",
      "|            Settings|\n",
      "|     Add to Playlist|\n",
      "|          Add Friend|\n",
      "|            NextSong|\n",
      "|           Thumbs Up|\n",
      "|                Help|\n",
      "|             Upgrade|\n",
      "|               Error|\n",
      "|      Submit Upgrade|\n",
      "+--------------------+\n",
      "\n"
     ]
    }
   ],
   "source": [
    "df.select(['page']).distinct().show()"
   ]
  },
  {
   "cell_type": "code",
   "execution_count": 12,
   "metadata": {
    "scrolled": true
   },
   "outputs": [
    {
     "name": "stdout",
     "output_type": "stream",
     "text": [
      "+---------+------+\n",
      "|     auth| count|\n",
      "+---------+------+\n",
      "|Cancelled|    52|\n",
      "|Logged In|278102|\n",
      "+---------+------+\n",
      "\n"
     ]
    }
   ],
   "source": [
    "df.groupby('auth').count().show()"
   ]
  },
  {
   "cell_type": "code",
   "execution_count": 13,
   "metadata": {},
   "outputs": [
    {
     "name": "stdout",
     "output_type": "stream",
     "text": [
      "+-----+------+\n",
      "|level| count|\n",
      "+-----+------+\n",
      "| free| 55721|\n",
      "| paid|222433|\n",
      "+-----+------+\n",
      "\n"
     ]
    }
   ],
   "source": [
    "df.groupby('level').count().show()"
   ]
  },
  {
   "cell_type": "code",
   "execution_count": 14,
   "metadata": {},
   "outputs": [
    {
     "name": "stdout",
     "output_type": "stream",
     "text": [
      "+------+------+\n",
      "|status| count|\n",
      "+------+------+\n",
      "|   307| 23184|\n",
      "|   404|   252|\n",
      "|   200|254718|\n",
      "+------+------+\n",
      "\n"
     ]
    }
   ],
   "source": [
    "df.groupby('status').count().show()"
   ]
  },
  {
   "cell_type": "code",
   "execution_count": 15,
   "metadata": {},
   "outputs": [
    {
     "name": "stdout",
     "output_type": "stream",
     "text": [
      "+--------------------+-----+\n",
      "|            location|count|\n",
      "+--------------------+-----+\n",
      "|     Gainesville, FL| 1229|\n",
      "|Atlantic City-Ham...| 2176|\n",
      "|Deltona-Daytona B...|   73|\n",
      "|San Diego-Carlsba...|  754|\n",
      "|Cleveland-Elyria, OH| 1392|\n",
      "|Kingsport-Bristol...| 1863|\n",
      "|New Haven-Milford...| 4007|\n",
      "|Birmingham-Hoover...|   75|\n",
      "|  Corpus Christi, TX|   11|\n",
      "|         Dubuque, IA|  651|\n",
      "|Las Vegas-Henders...| 2042|\n",
      "|Indianapolis-Carm...|  970|\n",
      "|Seattle-Tacoma-Be...|  246|\n",
      "|          Albany, OR|   23|\n",
      "|   Winston-Salem, NC|  819|\n",
      "|     Bakersfield, CA| 1775|\n",
      "|Los Angeles-Long ...|30131|\n",
      "|Minneapolis-St. P...| 2134|\n",
      "|San Francisco-Oak...| 2647|\n",
      "|Phoenix-Mesa-Scot...| 4846|\n",
      "+--------------------+-----+\n",
      "only showing top 20 rows\n",
      "\n"
     ]
    }
   ],
   "source": [
    "df.groupby('location').count().show()"
   ]
  },
  {
   "cell_type": "code",
   "execution_count": 16,
   "metadata": {},
   "outputs": [
    {
     "name": "stdout",
     "output_type": "stream",
     "text": [
      "+---------+----------------+-----+\n",
      "|     auth|            page|count|\n",
      "+---------+----------------+-----+\n",
      "|Logged In|Submit Downgrade|   63|\n",
      "+---------+----------------+-----+\n",
      "\n"
     ]
    }
   ],
   "source": [
    "df.where(df.page == 'Submit Downgrade').groupby(['auth','page']).count().show()"
   ]
  },
  {
   "cell_type": "code",
   "execution_count": 45,
   "metadata": {},
   "outputs": [
    {
     "name": "stdout",
     "output_type": "stream",
     "text": [
      "+-------------------------+------------------+\n",
      "|page                     |count(DISTINCT ts)|\n",
      "+-------------------------+------------------+\n",
      "|Cancel                   |52                |\n",
      "|Submit Downgrade         |63                |\n",
      "|Thumbs Down              |2546              |\n",
      "|Home                     |10070             |\n",
      "|Downgrade                |2049              |\n",
      "|Roll Advert              |3926              |\n",
      "|Logout                   |3224              |\n",
      "|Save Settings            |310               |\n",
      "|Cancellation Confirmation|52                |\n",
      "|About                    |494               |\n",
      "|Settings                 |1513              |\n",
      "|Add to Playlist          |6522              |\n",
      "|Add Friend               |4274              |\n",
      "|NextSong                 |222947            |\n",
      "|Thumbs Up                |12537             |\n",
      "|Help                     |1453              |\n",
      "|Upgrade                  |498               |\n",
      "|Error                    |252               |\n",
      "|Submit Upgrade           |159               |\n",
      "+-------------------------+------------------+\n",
      "\n"
     ]
    }
   ],
   "source": [
    "df.groupBy(['page']).agg(countDistinct('ts')).show(truncate=False)"
   ]
  },
  {
   "cell_type": "code",
   "execution_count": 39,
   "metadata": {},
   "outputs": [
    {
     "data": {
      "text/plain": [
       "52"
      ]
     },
     "execution_count": 39,
     "metadata": {},
     "output_type": "execute_result"
    }
   ],
   "source": [
    "df.where(df.page == 'Cancellation Confirmation').count()"
   ]
  },
  {
   "cell_type": "code",
   "execution_count": 17,
   "metadata": {
    "scrolled": true
   },
   "outputs": [
    {
     "data": {
      "text/plain": [
       "DataFrame[min(timestamp): timestamp, max(timestamp): timestamp]"
      ]
     },
     "execution_count": 17,
     "metadata": {},
     "output_type": "execute_result"
    }
   ],
   "source": [
    "df.agg(sf.min('timestamp'), sf.max('timestamp'))"
   ]
  },
  {
   "cell_type": "markdown",
   "metadata": {},
   "source": [
    "# Data wrangling\n",
    "\n",
    "### Define Churn\n",
    "\n",
    "Using the `Cancellation Confirmation` events to create a column `is_churn` to use as the label for the model. The `Downgrade` events is not used sincei I found it is not directly correlated to churn user. (multiple downgrade action might not lead to confirmed cancallation.\n",
    "\n",
    "### Data summary and visulization\n",
    "Once you've defined churn, perform some exploratory data analysis to observe the behavior for users who stayed vs users who churned. You can start by exploring aggregates on these two groups of users, observing how much of a specific action they experienced per a certain time unit or number of songs played."
   ]
  },
  {
   "cell_type": "code",
   "execution_count": 49,
   "metadata": {},
   "outputs": [],
   "source": [
    "#identify churn users and mark the dataframe\n",
    "churn_users = df.filter(df.page==\"Cancellation Confirmation\").select(\"userId\").dropDuplicates()\n",
    "churn_users_list = [(row['userId']) for row in churn_users.collect()]\n",
    "df = df.withColumn(\"is_churn\", sf.when(df.userId.isin(churn_users_list),1).otherwise(0))"
   ]
  },
  {
   "cell_type": "code",
   "execution_count": 50,
   "metadata": {},
   "outputs": [
    {
     "data": {
      "text/html": [
       "<div>\n",
       "<style scoped>\n",
       "    .dataframe tbody tr th:only-of-type {\n",
       "        vertical-align: middle;\n",
       "    }\n",
       "\n",
       "    .dataframe tbody tr th {\n",
       "        vertical-align: top;\n",
       "    }\n",
       "\n",
       "    .dataframe thead th {\n",
       "        text-align: right;\n",
       "    }\n",
       "</style>\n",
       "<table border=\"1\" class=\"dataframe\">\n",
       "  <thead>\n",
       "    <tr style=\"text-align: right;\">\n",
       "      <th></th>\n",
       "      <th>is_churn</th>\n",
       "      <th>gender</th>\n",
       "      <th>user_counts</th>\n",
       "    </tr>\n",
       "  </thead>\n",
       "  <tbody>\n",
       "    <tr>\n",
       "      <th>0</th>\n",
       "      <td>0</td>\n",
       "      <td>F</td>\n",
       "      <td>135410</td>\n",
       "    </tr>\n",
       "    <tr>\n",
       "      <th>1</th>\n",
       "      <td>0</td>\n",
       "      <td>M</td>\n",
       "      <td>97880</td>\n",
       "    </tr>\n",
       "    <tr>\n",
       "      <th>2</th>\n",
       "      <td>1</td>\n",
       "      <td>F</td>\n",
       "      <td>19168</td>\n",
       "    </tr>\n",
       "    <tr>\n",
       "      <th>3</th>\n",
       "      <td>1</td>\n",
       "      <td>M</td>\n",
       "      <td>25696</td>\n",
       "    </tr>\n",
       "  </tbody>\n",
       "</table>\n",
       "</div>"
      ],
      "text/plain": [
       "   is_churn gender  user_counts\n",
       "0         0      F       135410\n",
       "1         0      M        97880\n",
       "2         1      F        19168\n",
       "3         1      M        25696"
      ]
     },
     "execution_count": 50,
     "metadata": {},
     "output_type": "execute_result"
    }
   ],
   "source": [
    "df_pd = df.groupBy(['is_churn','gender']).agg(sf.count('userId').alias('user_counts')).orderBy(['is_churn','gender']).toPandas()\n",
    "df_pd.head()"
   ]
  },
  {
   "cell_type": "code",
   "execution_count": 51,
   "metadata": {},
   "outputs": [
    {
     "data": {
      "image/png": "[encoded data removed]",
      "text/plain": [
       "<matplotlib.figure.Figure at 0x7f5e122c02e8>"
      ]
     },
     "metadata": {
      "needs_background": "light"
     },
     "output_type": "display_data"
    }
   ],
   "source": [
    "fig, ax = plt.subplots() \n",
    "\n",
    "ax = sns.barplot(x='is_churn', y='user_counts', hue='gender', data=df_pd)\n",
    "\n",
    "plt.savefig('gender_effect.png')"
   ]
  },
  {
   "cell_type": "code",
   "execution_count": 52,
   "metadata": {},
   "outputs": [],
   "source": [
    "#Findings: \n",
    "#male churn at higher rate. \n",
    "#consider use gender as a feature"
   ]
  },
  {
   "cell_type": "code",
   "execution_count": 53,
   "metadata": {},
   "outputs": [
    {
     "name": "stdout",
     "output_type": "stream",
     "text": [
      "root\n",
      " |-- artist: string (nullable = false)\n",
      " |-- auth: string (nullable = true)\n",
      " |-- firstName: string (nullable = true)\n",
      " |-- gender: string (nullable = true)\n",
      " |-- itemInSession: long (nullable = true)\n",
      " |-- lastName: string (nullable = true)\n",
      " |-- length: double (nullable = false)\n",
      " |-- level: string (nullable = true)\n",
      " |-- location: string (nullable = true)\n",
      " |-- method: string (nullable = true)\n",
      " |-- page: string (nullable = true)\n",
      " |-- registration: long (nullable = true)\n",
      " |-- sessionId: long (nullable = true)\n",
      " |-- song: string (nullable = false)\n",
      " |-- status: long (nullable = true)\n",
      " |-- ts: long (nullable = true)\n",
      " |-- userAgent: string (nullable = true)\n",
      " |-- userId: string (nullable = true)\n",
      " |-- timestamp: timestamp (nullable = true)\n",
      " |-- registration_ts: timestamp (nullable = true)\n",
      " |-- is_churn: integer (nullable = false)\n",
      "\n"
     ]
    }
   ],
   "source": [
    "df.printSchema()"
   ]
  },
  {
   "cell_type": "code",
   "execution_count": 54,
   "metadata": {},
   "outputs": [],
   "source": [
    "churn_count = df.filter(df.is_churn==1).count()\n",
    "no_churn_count = df.filter(df.is_churn==0).count()\n",
    "\n",
    "df_temp1 = df.filter(df.is_churn==1).filter(df.page!=\"NextSong\").groupby([\"page\"]).count()\n",
    "df_temp1 = df_temp1.withColumn(\"cFreq\", df_temp1[\"count\"]/(churn_count/100)).sort(\"page\")\n",
    "\n",
    "df_temp2 = df.filter(df.is_churn==0).filter(df.page!=\"NextSong\").groupby([\"page\"]).count()\n",
    "df_temp2 = df_temp2.withColumn(\"ncFreq\", df_temp2[\"count\"]/(no_churn_count/100)).sort(\"page\")\n",
    "\n",
    "df_pd = df_temp1.join(df_temp2, \"page\", \"outer\").drop(\"count\").fillna(0).toPandas()"
   ]
  },
  {
   "cell_type": "code",
   "execution_count": 55,
   "metadata": {},
   "outputs": [
    {
     "data": {
      "image/png": "[encoded data removed]",
      "text/plain": [
       "<matplotlib.figure.Figure at 0x7f5e1446d8d0>"
      ]
     },
     "metadata": {
      "needs_background": "light"
     },
     "output_type": "display_data"
    }
   ],
   "source": [
    "df_pd.plot.barh(\"page\")\n",
    "plt.savefig('action_distribution.png')\n"
   ]
  },
  {
   "cell_type": "code",
   "execution_count": 26,
   "metadata": {},
   "outputs": [],
   "source": [
    "#Findings\n",
    "# not much difference in user action distribution, except the Roll Advert"
   ]
  },
  {
   "cell_type": "markdown",
   "metadata": {},
   "source": [
    "# Feature Engineering\n"
   ]
  },
  {
   "cell_type": "markdown",
   "metadata": {},
   "source": [
    "## Some initial thoughts \n",
    "### what inforamtion indicates unhappy user?\n",
    "\n",
    "* user interact with the app a lot or not\n",
    "* user add friends or add song to the list (cumulative effort for future. increase user retention rate)\n",
    "* user get visiting help page a lot (lost in interface, bad sign)\n",
    "* user skip song a lot (impatient user, unhappy with the songs )\n",
    "* user open app (login) a lot or very occasionally \n",
    "* user get a lot of error page\n",
    "* user thumbs up/ down a lot in a given time frame\n",
    "* very little activities per session\n"
   ]
  },
  {
   "cell_type": "code",
   "execution_count": 58,
   "metadata": {},
   "outputs": [],
   "source": [
    "#get the earliest and latest timestamp of the dataset\n",
    "\n",
    "extreme_ts = df.agg(sf.min('ts').alias('earliest'), sf.max('ts'))\n",
    "earliest_ts = extreme_ts.take(1)[0][0]\n",
    "latest_ts = extreme_ts.take(1)[0][1]"
   ]
  },
  {
   "cell_type": "code",
   "execution_count": 59,
   "metadata": {},
   "outputs": [],
   "source": [
    "#define windows to facilitate aggregation\n",
    "\n",
    "windowsession = Window.partitionBy('userId','sessionId').orderBy('ts')\n",
    "windowuser = Window.partitionBy('userId').orderBy('ts').rangeBetween(Window.unboundedPreceding, Window.unboundedFollowing)"
   ]
  },
  {
   "cell_type": "code",
   "execution_count": 60,
   "metadata": {},
   "outputs": [],
   "source": [
    "df = df.withColumn(\"lastlogtime\", sf.last(sf.col('ts')).over(windowuser))\n",
    "\n",
    "#I think it is better to monitor from the last log time for non-churn users and cancellation confirmation ts (which is last log time as well) for churn users. \n",
    "df = df.withColumn(\"obsend\", df.lastlogtime)"
   ]
  },
  {
   "cell_type": "code",
   "execution_count": 61,
   "metadata": {},
   "outputs": [],
   "source": [
    "#consider user cancel is impulsive action based on recent experience, we only focus on the activities during the last 4 weeks. \n",
    "\n",
    "trend_est_days = 28\n",
    "trend_est_hours = trend_est_days * 24\n",
    "# In timestamp format\n",
    "trend_est = trend_est_days * 24 * 60 * 60 * 1000\n",
    "\n",
    "udf_ck_ts_in_range = sf.udf(lambda col1, col2 : 1 if (col1 < col2) and (col1+trend_est >= col2)  else 0, st.IntegerType())\n",
    "df = df.withColumn('in_range', udf_ck_ts_in_range(sf.col('ts'), sf.col('obsend')))"
   ]
  },
  {
   "cell_type": "code",
   "execution_count": 62,
   "metadata": {},
   "outputs": [
    {
     "name": "stdout",
     "output_type": "stream",
     "text": [
      "+--------+--------+-------------+\n",
      "|in_range|is_churn|count(userId)|\n",
      "+--------+--------+-------------+\n",
      "|       1|       0|       127382|\n",
      "|       1|       1|        35528|\n",
      "|       0|       0|       105908|\n",
      "|       0|       1|         9336|\n",
      "+--------+--------+-------------+\n",
      "\n"
     ]
    }
   ],
   "source": [
    "df.groupby('in_range', 'is_churn').agg(sf.count('userId')).show()\n",
    "#Findings: \n",
    "#seems that the time range is reasonable"
   ]
  },
  {
   "cell_type": "code",
   "execution_count": 63,
   "metadata": {},
   "outputs": [],
   "source": [
    "#focus on data within the taget time range\n",
    "df_model = df.where(df.in_range == True)"
   ]
  },
  {
   "cell_type": "code",
   "execution_count": 64,
   "metadata": {},
   "outputs": [],
   "source": [
    "# Aggregation by userId, some direct features\n",
    "df_user = df_model.groupby('userId')\\\n",
    ".agg(\n",
    "     first(col('is_churn')).alias('label'),\n",
    "     # User-level features\n",
    "     first(when(col('gender') == \"F\", 1).otherwise(0)).alias('gender'),\n",
    "     Fmin(col('ts')).alias('obsbegin'),\n",
    "     first(col('obsend')).alias('obsend'),\n",
    "     # Aggregated activity statistics\n",
    "    \n",
    "     count(col('page')).alias('nact'), #indicating if user are actively engaging or not\n",
    "     countDistinct(col('sessionId')).alias('nsession'),     #indicating if user are actively engaging or not\n",
    "     Fsum(when(col('page') == \"NextSong\", 1).otherwise(0)).alias(\"nsong\"),  #indicating if user are playing song or not\n",
    "     Fsum(when(col('page') == \"Thumbs Up\", 1).otherwise(0)).alias(\"ntbup\"),\n",
    "     Fsum(when(col('page') == \"Thumbs Down\", 1).otherwise(0)).alias(\"ntbdown\"),\n",
    "     Fsum(when(col('page') == \"Add Friend\", 1).otherwise(0)).alias(\"nfriend\"),\n",
    "     Fsum(when(col('page') == \"Add to Playlist\", 1).otherwise(0)).alias(\"nplaylist\"),     \n",
    "     Fsum(when(col('page') == \"Submit Downgrade\", 1).otherwise(0)).alias(\"ndgrade\"),\n",
    "     Fsum(when(col('page') == \"Submit Upgrade\", 1).otherwise(0)).alias(\"nugrade\"),\n",
    "     Fsum(when(col('page') == \"Home\", 1).otherwise(0)).alias(\"nhome\"),\n",
    "     Fsum(when(col('page') == \"Roll Advert\", 1).otherwise(0)).alias(\"nadvert\"),\n",
    "     Fsum(when(col('page') == \"Help\", 1).otherwise(0)).alias(\"nhelp\"),\n",
    "     Fsum(when(col('page') == \"Error\", 1).otherwise(0)).alias(\"nerror\")\n",
    ")"
   ]
  },
  {
   "cell_type": "code",
   "execution_count": 65,
   "metadata": {},
   "outputs": [],
   "source": [
    "# Calculation of the derived features\n",
    "\n",
    "#act_per_session: #indicating if user are using the app or just getting in and out (test the water, impatient)\n",
    "#indicating if user are playing songs or other actions (indicating potential churn)\n",
    "#indicating if user like the songs or not\n",
    "#indicating if user dislike the songs or not\n",
    "#indicating if user are engaging with friend, given the time they spent within sparkify\n",
    "#indicating if user are saving the songs for later usage, given the time they spent within sparkify\n",
    "#use this metric since large difference were found between churn and non-churn users\n",
    "#if user are getting a lot of errors for the time they engaged.\n",
    "df_user = df_user.withColumn('act_per_session', col('nact') / col('nsession'))\\\n",
    ".withColumn('song_per_act', col('nsong') / col('nact'))\\\n",
    ".withColumn('ntbup_per_song', col('ntbup') / col('nsong'))\\\n",
    ".withColumn('ntbdown_per_song', col('ntbdown') / col('nsong'))\\\n",
    ".withColumn('nfriend_per_act', col('nfriend') / col('nact'))\\\n",
    ".withColumn('nplaylist_per_act', col('nplaylist') / col('nact'))\\\n",
    ".withColumn('nadvert_per_act', col('nadvert') / col('nact'))\\\n",
    ".withColumn('nerror_per_act', col('nerror') / col('nact'))\\\n",
    ".withColumn('obsrange', (col('obsend') - col('obsbegin'))/(24 * 60 * 60 * 1000))"
   ]
  },
  {
   "cell_type": "code",
   "execution_count": 67,
   "metadata": {},
   "outputs": [],
   "source": [
    "df_user = df_user.withColumn('act_per_day', col('nact') / col('obsrange'))\\\n",
    ".withColumn('session_per_day', col('nsession') / col('obsrange'))\\\n",
    ".withColumn('song_per_day', col('nsong') / col('obsrange'))"
   ]
  },
  {
   "cell_type": "code",
   "execution_count": 68,
   "metadata": {},
   "outputs": [],
   "source": [
    "df_user = df_user.withColumn('act_per_session', col('nact') / col('nsession'))\\\n",
    ".withColumn('song_per_act', col('nsong') / col('nact'))\\\n",
    ".withColumn('ntbup_per_song', col('ntbup') / col('nsong'))\\\n",
    ".withColumn('ntbdown_per_song', col('ntbdown') / col('nsong'))\\\n",
    ".withColumn('nfriend_per_act', col('nfriend') / col('nact'))\\\n",
    ".withColumn('nplaylist_per_act', col('nplaylist') / col('nact'))\\\n",
    ".withColumn('nadvert_per_act', col('nadvert') / col('nact'))\\\n",
    ".withColumn('nerror_per_act', col('nerror') / col('nact'))\\\n",
    ".withColumn('obsrange', col('obsend') - col('obsbegin'))"
   ]
  },
  {
   "cell_type": "code",
   "execution_count": 69,
   "metadata": {},
   "outputs": [],
   "source": [
    "#Some more derived features\n",
    "\n",
    "from pyspark.sql.functions import max as Fmax, avg\n",
    "# Calculation of user's average number of items per session\n",
    "session_avgnitems = df.groupby(['userId', 'sessionId'])\\\n",
    ".agg(Fmax(col('itemInSession')).alias('nitems'))\\\n",
    ".groupby('userId').agg(avg(col('nitems')).alias('avgsessionitems'))\n",
    "\n",
    "from pyspark.sql.functions import min as Fmin\n",
    "# Calculation of user's average session length\n",
    "session_avglength = df.groupby(['userId', 'sessionId'])\\\n",
    ".agg(Fmin(col('ts')).alias('startsession'), Fmax(col('ts')).alias('endsession'))\\\n",
    ".groupby('userId').agg(avg(col('endsession')-col('startsession')).alias('avgsessionlength'))\n"
   ]
  },
  {
   "cell_type": "code",
   "execution_count": 70,
   "metadata": {},
   "outputs": [],
   "source": [
    "# Adding the extra features to the df_user dataset with all other engineered features\n",
    "df_user = df_user\\\n",
    ".join(session_avgnitems, on = 'userId')\\\n",
    ".join(session_avglength, on = 'userId')"
   ]
  },
  {
   "cell_type": "code",
   "execution_count": 71,
   "metadata": {},
   "outputs": [
    {
     "name": "stdout",
     "output_type": "stream",
     "text": [
      "root\n",
      " |-- userId: string (nullable = true)\n",
      " |-- label: integer (nullable = true)\n",
      " |-- gender: integer (nullable = true)\n",
      " |-- obsbegin: long (nullable = true)\n",
      " |-- obsend: long (nullable = true)\n",
      " |-- nact: long (nullable = false)\n",
      " |-- nsession: long (nullable = false)\n",
      " |-- nsong: long (nullable = true)\n",
      " |-- ntbup: long (nullable = true)\n",
      " |-- ntbdown: long (nullable = true)\n",
      " |-- nfriend: long (nullable = true)\n",
      " |-- nplaylist: long (nullable = true)\n",
      " |-- ndgrade: long (nullable = true)\n",
      " |-- nugrade: long (nullable = true)\n",
      " |-- nhome: long (nullable = true)\n",
      " |-- nadvert: long (nullable = true)\n",
      " |-- nhelp: long (nullable = true)\n",
      " |-- nerror: long (nullable = true)\n",
      " |-- act_per_session: double (nullable = true)\n",
      " |-- song_per_act: double (nullable = true)\n",
      " |-- ntbup_per_song: double (nullable = true)\n",
      " |-- ntbdown_per_song: double (nullable = true)\n",
      " |-- nfriend_per_act: double (nullable = true)\n",
      " |-- nplaylist_per_act: double (nullable = true)\n",
      " |-- nadvert_per_act: double (nullable = true)\n",
      " |-- nerror_per_act: double (nullable = true)\n",
      " |-- obsrange: long (nullable = true)\n",
      " |-- act_per_day: double (nullable = true)\n",
      " |-- session_per_day: double (nullable = true)\n",
      " |-- song_per_day: double (nullable = true)\n",
      " |-- avgsessionitems: double (nullable = true)\n",
      " |-- avgsessionlength: double (nullable = true)\n",
      "\n"
     ]
    }
   ],
   "source": [
    "df_user.printSchema()"
   ]
  },
  {
   "cell_type": "code",
   "execution_count": 72,
   "metadata": {},
   "outputs": [
    {
     "name": "stdout",
     "output_type": "stream",
     "text": [
      "(225, 32)\n"
     ]
    }
   ],
   "source": [
    "print((df_user.count(), len(df_user.columns)))"
   ]
  },
  {
   "cell_type": "code",
   "execution_count": 73,
   "metadata": {},
   "outputs": [
    {
     "data": {
      "text/plain": [
       "DataFrame[userId: string, label: int, gender: int, obsbegin: bigint, obsend: bigint, nact: bigint, nsession: bigint, nsong: bigint, ntbup: bigint, ntbdown: bigint, nfriend: bigint, nplaylist: bigint, ndgrade: bigint, nugrade: bigint, nhome: bigint, nadvert: bigint, nhelp: bigint, nerror: bigint, act_per_session: double, song_per_act: double, ntbup_per_song: double, ntbdown_per_song: double, nfriend_per_act: double, nplaylist_per_act: double, nadvert_per_act: double, nerror_per_act: double, obsrange: bigint, act_per_day: double, session_per_day: double, song_per_day: double, avgsessionitems: double, avgsessionlength: double]"
      ]
     },
     "execution_count": 73,
     "metadata": {},
     "output_type": "execute_result"
    }
   ],
   "source": [
    "df_user.persist()"
   ]
  },
  {
   "cell_type": "code",
   "execution_count": 74,
   "metadata": {},
   "outputs": [],
   "source": [
    "df_user_pd = df_user.toPandas()"
   ]
  },
  {
   "cell_type": "code",
   "execution_count": 75,
   "metadata": {},
   "outputs": [
    {
     "data": {
      "image/png": "[encoded data removed]",
      "text/plain": [
       "<matplotlib.figure.Figure at 0x7f5e12153320>"
      ]
     },
     "metadata": {
      "needs_background": "light"
     },
     "output_type": "display_data"
    }
   ],
   "source": [
    "cormat = df_user_pd[\n",
    "['label',\n",
    " 'gender',\n",
    " 'nact',\n",
    " 'nsession',\n",
    " 'nsong',\n",
    " 'ntbup',\n",
    " 'ntbdown',\n",
    " 'nfriend',\n",
    " 'nplaylist',\n",
    " 'ndgrade',\n",
    " 'nugrade',\n",
    " 'nhome',\n",
    " 'nadvert',\n",
    " 'nhelp',\n",
    " 'nerror',\n",
    " 'act_per_day',\n",
    " 'session_per_day',\n",
    " 'song_per_day',\n",
    " 'act_per_session',\n",
    " 'song_per_act',\n",
    " 'ntbup_per_song',\n",
    " 'ntbdown_per_song',\n",
    " 'nfriend_per_act',\n",
    " 'nplaylist_per_act',\n",
    " 'nadvert_per_act',\n",
    " 'nerror_per_act',\n",
    " 'avgsessionitems',\n",
    " 'avgsessionlength']\n",
    "].corr()\n",
    "\n",
    "# %matplotlib inline\n",
    "\n",
    "# Plot correlations\n",
    "plt.rcParams['figure.figsize'] = (20,20)\n",
    "# plt.subplots_adjust(left=0.20, right=0.9, top=0.95, bottom=0.15)\n",
    "sns.heatmap(cormat, cmap = sns.diverging_palette(220, 10, as_cmap = True), square = True, vmin = -1, vmax = 1)\n",
    "plt.title('Feature correlations')\n",
    "plt.savefig('correlations.png')\n",
    "plt.show()"
   ]
  },
  {
   "cell_type": "code",
   "execution_count": 76,
   "metadata": {},
   "outputs": [],
   "source": [
    "#Findings \n",
    "#the label is correlated with a few factors. We will check these factor importance later.\n"
   ]
  },
  {
   "cell_type": "code",
   "execution_count": null,
   "metadata": {},
   "outputs": [],
   "source": []
  },
  {
   "cell_type": "markdown",
   "metadata": {},
   "source": [
    "# Modeling\n",
    "Split the full dataset into train, test, and validation sets. Test out several of the machine learning methods you learned. Evaluate the accuracy of the various models, tuning parameters as necessary. Determine your winning model based on test accuracy and report results on the validation set. Since the churned users are a fairly small subset, I suggest using F1 score as the metric to optimize."
   ]
  },
  {
   "cell_type": "code",
   "execution_count": 77,
   "metadata": {},
   "outputs": [],
   "source": [
    "from pyspark.ml import Pipeline\n",
    "from pyspark.ml.feature import VectorAssembler, Normalizer, StandardScaler\n",
    "from pyspark.ml.regression import LinearRegression\n",
    "from pyspark.ml.classification import LogisticRegression, RandomForestClassifier, GBTClassifier\n",
    "from pyspark.ml.tuning import CrossValidator, ParamGridBuilder\n",
    "from pyspark.ml.evaluation import BinaryClassificationEvaluator, Evaluator"
   ]
  },
  {
   "cell_type": "code",
   "execution_count": 78,
   "metadata": {},
   "outputs": [
    {
     "name": "stdout",
     "output_type": "stream",
     "text": [
      "Original dataset: 225 rows. Training and validation: 179 rows. Testing set: 46 rows\n"
     ]
    }
   ],
   "source": [
    "#generate train-test data set\n",
    "\n",
    "train_plus_val, test = df_user.randomSplit([0.8, 0.2], seed = 9) \n",
    "ntotal = df_user.count()\n",
    "ntrainval = train_plus_val.count()\n",
    "ntest = test.count()\n",
    "\n",
    "print('Original dataset: {} rows. Training and validation: {} rows. Testing set: {} rows'.format(ntotal,ntrainval,ntest))"
   ]
  },
  {
   "cell_type": "code",
   "execution_count": 79,
   "metadata": {},
   "outputs": [],
   "source": [
    "numeric_columns = [\n",
    " 'nact',\n",
    " 'nsession',\n",
    " 'nsong',\n",
    " 'ntbup',\n",
    " 'ntbdown',\n",
    " 'nfriend',\n",
    " 'nplaylist',\n",
    " 'ndgrade',\n",
    " 'nugrade',\n",
    " 'nhome',\n",
    " 'nadvert',\n",
    " 'nhelp',\n",
    " 'nerror',\n",
    " 'act_per_day',\n",
    " 'session_per_day',\n",
    " 'song_per_day',\n",
    " 'song_per_act',\n",
    " 'ntbup_per_song',\n",
    " 'ntbdown_per_song',\n",
    " 'nfriend_per_act',\n",
    " 'nplaylist_per_act',\n",
    " 'nadvert_per_act',\n",
    " 'nerror_per_act',\n",
    " 'avgsessionitems',\n",
    " 'avgsessionlength']"
   ]
  },
  {
   "cell_type": "code",
   "execution_count": 80,
   "metadata": {},
   "outputs": [],
   "source": [
    "# Combining multiple numerical features using VectorAssembler\n",
    "numeric_assembler = VectorAssembler(inputCols = numeric_columns, outputCol = \"numericvectorized\")\n",
    "\n",
    "# Standardizing numerical features\n",
    "scaler = StandardScaler(inputCol = \"numericvectorized\", outputCol = \"numericscaled\", withStd = True, withMean = True)\n",
    "\n",
    "# Adding the two binary features\n",
    "binary_columns = [ 'gender']\n",
    "total_assembler = VectorAssembler(inputCols = binary_columns + [\"numericscaled\"], outputCol = \"features\")\n"
   ]
  },
  {
   "cell_type": "code",
   "execution_count": 81,
   "metadata": {},
   "outputs": [],
   "source": [
    "# Gradient-boosted tree classifier with pipeline\n",
    "gb = GBTClassifier()\n",
    "pipeline_gb = Pipeline(stages = [numeric_assembler, scaler, total_assembler, gb])"
   ]
  },
  {
   "cell_type": "code",
   "execution_count": 82,
   "metadata": {},
   "outputs": [],
   "source": [
    "# Parameter combinations\n",
    "paramGrid_gb = ParamGridBuilder()\\\n",
    ".addGrid(gb.maxDepth, [3, 5])\\\n",
    ".addGrid(gb.maxIter, [20, 100])\\\n",
    ".build()\n",
    "\n",
    "\n",
    "# Grid search with cross validation\n",
    "crossval_gb = CrossValidator(estimator = pipeline_gb,\n",
    "                          estimatorParamMaps = paramGrid_gb,\n",
    "                          evaluator = BinaryClassificationEvaluator(),\n",
    "                          #evaluator = F1score(),\n",
    "                          numFolds = 4)"
   ]
  },
  {
   "cell_type": "code",
   "execution_count": null,
   "metadata": {},
   "outputs": [],
   "source": [
    "# Perform the grid search by fitting the grid search object\n",
    "import time\n",
    "start = time.time()\n",
    "\n",
    "crossvalmodel_gb = crossval_gb.fit(train_plus_val)\n",
    "end = time.time()\n",
    "print('Time spent for grid search: {} seconds'.format(round(end-start)))"
   ]
  },
  {
   "cell_type": "code",
   "execution_count": null,
   "metadata": {},
   "outputs": [],
   "source": [
    "# Store grid search results in a dataframe\n",
    "scores = crossvalmodel_gb.avgMetrics\n",
    "params = [{p.name: v for p, v in m.items()} for m in crossvalmodel_gb.getEstimatorParamMaps()]\n",
    "params_pd = pd.DataFrame(params)\n",
    "params_pd['score'] = scores\n",
    "params_pd"
   ]
  },
  {
   "cell_type": "markdown",
   "metadata": {},
   "source": [
    "#Findings \n",
    "The best parameters are: "
   ]
  },
  {
   "cell_type": "code",
   "execution_count": 43,
   "metadata": {},
   "outputs": [
    {
     "name": "stdout",
     "output_type": "stream",
     "text": [
      "Time spent for training: 2461 seconds\n"
     ]
    }
   ],
   "source": [
    "import time\n",
    "\n",
    "# Retrain the classifier with the best performing parameters\n",
    "best_gb =  GBTClassifier(maxDepth = 5, maxIter = 30)\n",
    "pipeline_best_gb = Pipeline(stages = [numeric_assembler, scaler, total_assembler, best_gb])\n",
    "\n",
    "start = time.time()\n",
    "model_gb = pipeline_best_gb.fit(train_plus_val)\n",
    "end = time.time()\n",
    "print('Time spent for training: {} seconds'.format(round(end-start)))"
   ]
  },
  {
   "cell_type": "code",
   "execution_count": 44,
   "metadata": {
    "collapsed": true
   },
   "outputs": [
    {
     "data": {
      "text/html": [
       "<div>\n",
       "<style scoped>\n",
       "    .dataframe tbody tr th:only-of-type {\n",
       "        vertical-align: middle;\n",
       "    }\n",
       "\n",
       "    .dataframe tbody tr th {\n",
       "        vertical-align: top;\n",
       "    }\n",
       "\n",
       "    .dataframe thead th {\n",
       "        text-align: right;\n",
       "    }\n",
       "</style>\n",
       "<table border=\"1\" class=\"dataframe\">\n",
       "  <thead>\n",
       "    <tr style=\"text-align: right;\">\n",
       "      <th></th>\n",
       "      <th>feature</th>\n",
       "      <th>importance</th>\n",
       "    </tr>\n",
       "  </thead>\n",
       "  <tbody>\n",
       "    <tr>\n",
       "      <th>15</th>\n",
       "      <td>session_per_day</td>\n",
       "      <td>0.097932</td>\n",
       "    </tr>\n",
       "    <tr>\n",
       "      <th>17</th>\n",
       "      <td>song_per_act</td>\n",
       "      <td>0.080686</td>\n",
       "    </tr>\n",
       "    <tr>\n",
       "      <th>19</th>\n",
       "      <td>ntbdown_per_song</td>\n",
       "      <td>0.072722</td>\n",
       "    </tr>\n",
       "    <tr>\n",
       "      <th>7</th>\n",
       "      <td>nplaylist</td>\n",
       "      <td>0.064782</td>\n",
       "    </tr>\n",
       "    <tr>\n",
       "      <th>18</th>\n",
       "      <td>ntbup_per_song</td>\n",
       "      <td>0.059976</td>\n",
       "    </tr>\n",
       "    <tr>\n",
       "      <th>24</th>\n",
       "      <td>avgsessionitems</td>\n",
       "      <td>0.059704</td>\n",
       "    </tr>\n",
       "    <tr>\n",
       "      <th>11</th>\n",
       "      <td>nadvert</td>\n",
       "      <td>0.057487</td>\n",
       "    </tr>\n",
       "    <tr>\n",
       "      <th>4</th>\n",
       "      <td>ntbup</td>\n",
       "      <td>0.055122</td>\n",
       "    </tr>\n",
       "    <tr>\n",
       "      <th>21</th>\n",
       "      <td>nplaylist_per_act</td>\n",
       "      <td>0.051047</td>\n",
       "    </tr>\n",
       "    <tr>\n",
       "      <th>6</th>\n",
       "      <td>nfriend</td>\n",
       "      <td>0.045145</td>\n",
       "    </tr>\n",
       "    <tr>\n",
       "      <th>22</th>\n",
       "      <td>nadvert_per_act</td>\n",
       "      <td>0.036883</td>\n",
       "    </tr>\n",
       "    <tr>\n",
       "      <th>14</th>\n",
       "      <td>act_per_day</td>\n",
       "      <td>0.033015</td>\n",
       "    </tr>\n",
       "    <tr>\n",
       "      <th>0</th>\n",
       "      <td>gender</td>\n",
       "      <td>0.032282</td>\n",
       "    </tr>\n",
       "    <tr>\n",
       "      <th>1</th>\n",
       "      <td>nact</td>\n",
       "      <td>0.028731</td>\n",
       "    </tr>\n",
       "    <tr>\n",
       "      <th>20</th>\n",
       "      <td>nfriend_per_act</td>\n",
       "      <td>0.027360</td>\n",
       "    </tr>\n",
       "    <tr>\n",
       "      <th>12</th>\n",
       "      <td>nhelp</td>\n",
       "      <td>0.026801</td>\n",
       "    </tr>\n",
       "    <tr>\n",
       "      <th>23</th>\n",
       "      <td>nerror_per_act</td>\n",
       "      <td>0.022622</td>\n",
       "    </tr>\n",
       "    <tr>\n",
       "      <th>16</th>\n",
       "      <td>song_per_day</td>\n",
       "      <td>0.022272</td>\n",
       "    </tr>\n",
       "    <tr>\n",
       "      <th>3</th>\n",
       "      <td>nsong</td>\n",
       "      <td>0.022096</td>\n",
       "    </tr>\n",
       "    <tr>\n",
       "      <th>2</th>\n",
       "      <td>nsession</td>\n",
       "      <td>0.021375</td>\n",
       "    </tr>\n",
       "    <tr>\n",
       "      <th>10</th>\n",
       "      <td>nhome</td>\n",
       "      <td>0.020771</td>\n",
       "    </tr>\n",
       "    <tr>\n",
       "      <th>25</th>\n",
       "      <td>avgsessionlength</td>\n",
       "      <td>0.020226</td>\n",
       "    </tr>\n",
       "    <tr>\n",
       "      <th>9</th>\n",
       "      <td>nugrade</td>\n",
       "      <td>0.017985</td>\n",
       "    </tr>\n",
       "    <tr>\n",
       "      <th>13</th>\n",
       "      <td>nerror</td>\n",
       "      <td>0.013873</td>\n",
       "    </tr>\n",
       "    <tr>\n",
       "      <th>5</th>\n",
       "      <td>ntbdown</td>\n",
       "      <td>0.008406</td>\n",
       "    </tr>\n",
       "    <tr>\n",
       "      <th>8</th>\n",
       "      <td>ndgrade</td>\n",
       "      <td>0.000698</td>\n",
       "    </tr>\n",
       "  </tbody>\n",
       "</table>\n",
       "</div>"
      ],
      "text/plain": [
       "              feature  importance\n",
       "15    session_per_day    0.097932\n",
       "17       song_per_act    0.080686\n",
       "19   ntbdown_per_song    0.072722\n",
       "7           nplaylist    0.064782\n",
       "18     ntbup_per_song    0.059976\n",
       "24    avgsessionitems    0.059704\n",
       "11            nadvert    0.057487\n",
       "4               ntbup    0.055122\n",
       "21  nplaylist_per_act    0.051047\n",
       "6             nfriend    0.045145\n",
       "22    nadvert_per_act    0.036883\n",
       "14        act_per_day    0.033015\n",
       "0              gender    0.032282\n",
       "1                nact    0.028731\n",
       "20    nfriend_per_act    0.027360\n",
       "12              nhelp    0.026801\n",
       "23     nerror_per_act    0.022622\n",
       "16       song_per_day    0.022272\n",
       "3               nsong    0.022096\n",
       "2            nsession    0.021375\n",
       "10              nhome    0.020771\n",
       "25   avgsessionlength    0.020226\n",
       "9             nugrade    0.017985\n",
       "13             nerror    0.013873\n",
       "5             ntbdown    0.008406\n",
       "8             ndgrade    0.000698"
      ]
     },
     "execution_count": 44,
     "metadata": {},
     "output_type": "execute_result"
    }
   ],
   "source": [
    "# Display feature importances\n",
    "importances = model_gb.stages[-1].featureImportances\n",
    "importances_list = [importances[i] for i in range(len(importances))]\n",
    "names = binary_columns + numeric_columns\n",
    "pd.DataFrame({\"feature\": names,\"importance\": importances_list, }).sort_values('importance', ascending = False)"
   ]
  },
  {
   "cell_type": "markdown",
   "metadata": {},
   "source": [
    "# Results"
   ]
  },
  {
   "cell_type": "markdown",
   "metadata": {},
   "source": [
    "# Evaluate the model"
   ]
  },
  {
   "cell_type": "code",
   "execution_count": 46,
   "metadata": {
    "scrolled": true
   },
   "outputs": [
    {
     "name": "stdout",
     "output_type": "stream",
     "text": [
      "+------+-----+----------+--------------------+\n",
      "|userId|label|prediction|         probability|\n",
      "+------+-----+----------+--------------------+\n",
      "|   138|    0|       0.0|[0.92471522393293...|\n",
      "|   112|    0|       0.0|[0.66456232371933...|\n",
      "|200010|    0|       0.0|[0.89700421682992...|\n",
      "|    34|    0|       0.0|[0.96678529538211...|\n",
      "|     8|    0|       0.0|[0.98856881947728...|\n",
      "+------+-----+----------+--------------------+\n",
      "only showing top 5 rows\n",
      "\n"
     ]
    }
   ],
   "source": [
    "# Obtain predictions on the test set\n",
    "results_gb = model_gb.transform(test)\n",
    "results_gb.select(['userId','label','prediction','probability']).show(5)"
   ]
  },
  {
   "cell_type": "code",
   "execution_count": 47,
   "metadata": {},
   "outputs": [
    {
     "name": "stdout",
     "output_type": "stream",
     "text": [
      "Logistic regression AUC score: 0.6620046620046619\n"
     ]
    }
   ],
   "source": [
    "# AUC score on the test set\n",
    "auc_evaluator = BinaryClassificationEvaluator()\n",
    "auc_gb = auc_evaluator.evaluate(results_gb)\n",
    "print('Logistic regression AUC score: {}'.format(auc_gb))"
   ]
  },
  {
   "cell_type": "code",
   "execution_count": 49,
   "metadata": {},
   "outputs": [],
   "source": [
    "#Custom F1 score evaluator that we can use instead of BinaryClassificationEvaluator() in grid search\n",
    "class F1score(Evaluator):\n",
    "\n",
    "    def __init__(self, predictionCol = \"prediction\", labelCol=\"label\"):\n",
    "        self.predictionCol = predictionCol\n",
    "        self.labelCol = labelCol\n",
    "\n",
    "    def _evaluate(self, dataset):\n",
    "        \n",
    "        # Calculate F1 score \n",
    "        tp = dataset.where((dataset.label == 1) & (dataset.prediction == 1)).count()\n",
    "        fp = dataset.where((dataset.label == 0) & (dataset.prediction == 1)).count()\n",
    "        tn = dataset.where((dataset.label == 0) & (dataset.prediction == 0)).count()\n",
    "        fn = dataset.where((dataset.label == 1) & (dataset.prediction == 0)).count()\n",
    "        \n",
    "        # Add epsilon to prevent division by zero\n",
    "        precision = tp / (tp + fp + 0.00001)\n",
    "        recall = tp / (tp + fn + 0.00001)\n",
    "        \n",
    "        f1 = 2 * precision * recall / (precision + recall + 0.00001)\n",
    "        \n",
    "        return f1\n",
    "\n",
    "    def isLargerBetter(self):\n",
    "        return True"
   ]
  },
  {
   "cell_type": "code",
   "execution_count": 50,
   "metadata": {
    "scrolled": true
   },
   "outputs": [
    {
     "name": "stdout",
     "output_type": "stream",
     "text": [
      "Logistic regression F1 score: 0.3478208696347817\n"
     ]
    }
   ],
   "source": [
    "# F1 score on the test set\n",
    "f1_evaluator = F1score()\n",
    "f1score_gb = f1_evaluator._evaluate(results_gb)\n",
    "print('Logistic regression F1 score: {}'.format(f1score_gb))"
   ]
  },
  {
   "cell_type": "markdown",
   "metadata": {},
   "source": [
    "# Final Steps\n",
    "Clean up your code, adding comments and renaming variables to make the code easier to read and maintain. Refer to the Spark Project Overview page and Data Scientist Capstone Project Rubric to make sure you are including all components of the capstone project and meet all expectations. Remember, this includes thorough documentation in a README file in a Github repository, as well as a web app or blog post."
   ]
  },
  {
   "cell_type": "markdown",
   "metadata": {},
   "source": [
    "# Conclusion"
   ]
  },
  {
   "cell_type": "markdown",
   "metadata": {},
   "source": [
    "## Reflection"
   ]
  },
  {
   "cell_type": "markdown",
   "metadata": {},
   "source": [
    "This project is a demostration of my skills in pyspark as well as other modules. \n",
    "The success of the machine learning model, is largely depending on good insight of the data, good job in data cleaning, especially feature engineering. \n",
    "\n",
    "Due to limit of time and effort, this project did not get further in model tuning, model comparison and model ensemble. But it is more of research and problem solving than demostrate programming skills and general knowledge of entire process. Therefore, it is not elaborated here. \n"
   ]
  },
  {
   "cell_type": "markdown",
   "metadata": {},
   "source": [
    "## Improvement"
   ]
  },
  {
   "cell_type": "markdown",
   "metadata": {},
   "source": [
    "The features used in this project is data gathered over one period of time. It might be useful to create features based on the user behavior change over time. Because different kind of user might have different usage pattern, some heavy user might have exactly the same user behavior as light user, while quite lower actions per day compare to previous time range. A feature based on the changes in statistical data summary would be helpful in identifying such user."
   ]
  },
  {
   "cell_type": "markdown",
   "metadata": {},
   "source": [
    "\n"
   ]
  }
 ],
 "metadata": {
  "kernelspec": {
   "display_name": "Python 3",
   "language": "python",
   "name": "python3"
  },
  "language_info": {
   "codemirror_mode": {
    "name": "ipython",
    "version": 3
   },
   "file_extension": ".py",
   "mimetype": "text/x-python",
   "name": "python",
   "nbconvert_exporter": "python",
   "pygments_lexer": "ipython3",
   "version": "3.6.3"
  }
 },
 "nbformat": 4,
 "nbformat_minor": 2
}
